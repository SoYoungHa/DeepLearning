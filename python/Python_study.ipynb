{
 "cells": [
  {
   "cell_type": "markdown",
   "id": "39536582",
   "metadata": {},
   "source": [
    "# python初步学习"
   ]
  },
  {
   "cell_type": "markdown",
   "id": "93e07034",
   "metadata": {},
   "source": [
    "## 1.helo world"
   ]
  },
  {
   "cell_type": "code",
   "execution_count": 4,
   "id": "97b3f10a",
   "metadata": {},
   "outputs": [
    {
     "name": "stdout",
     "output_type": "stream",
     "text": [
      "hello world\n"
     ]
    }
   ],
   "source": [
    "print(\"hello world\")"
   ]
  },
  {
   "cell_type": "markdown",
   "id": "acc76d42",
   "metadata": {},
   "source": [
    "## 2.基本语法:几种变量"
   ]
  },
  {
   "cell_type": "code",
   "execution_count": 7,
   "id": "3cdc2f72",
   "metadata": {},
   "outputs": [
    {
     "name": "stdout",
     "output_type": "stream",
     "text": [
      "c= hello world\n",
      "c=\"hello world\" \n",
      "\n",
      "这是一个多字符串  \n",
      "这是第二行   \n",
      "这是第三行\n",
      "    \n",
      "2+3.56=7.12\n",
      "小明今年13岁\n",
      "13 next year is 小明 \n"
     ]
    }
   ],
   "source": [
    "ok = True #布尔值 True False\n",
    "a = 2\n",
    "b = 3.56\n",
    "c= \"hello world\" #单引号 双引号都可以\n",
    "d = a*b\n",
    "e = 'c=\"hello world\" '  #单引号套双引号\n",
    "name,age = \"小明\",13   #可以一次声明多个变量\n",
    "# 三引号可以用来表示多字符串\n",
    "f = \"\"\"\n",
    "这是一个多字符串  \n",
    "这是第二行   \n",
    "这是第三行\n",
    "    \"\"\"\n",
    "\n",
    "print(\"c=\",c) #自带换行 \\n表示换行\n",
    "print(e)\n",
    "print(f)\n",
    "\n",
    "# format格式化字符串，{0}代表第一个参数，以此类推 \n",
    "# format有三种使用方式\n",
    "print(\"{0}+{1}={2}\".format(a,b,d))\n",
    "print(\"{}今年{}岁\".format(name,age))  #可见序号可以省略\n",
    "print(\"{name} next year is {age} \".format(name=age,age=name))   #使用键值对"
   ]
  },
  {
   "cell_type": "markdown",
   "id": "1365e1bf",
   "metadata": {},
   "source": [
    "## 3.运算符与表达式"
   ]
  },
  {
   "cell_type": "code",
   "execution_count": 3,
   "id": "0217a723",
   "metadata": {},
   "outputs": [
    {
     "name": "stdout",
     "output_type": "stream",
     "text": [
      "加法：1+2= 3\n",
      "减法：4-6= -2\n",
      "乘法：2*3= 6\n",
      "除法：6/4= 1.5\n",
      "除取整：6//4= 1\n"
     ]
    }
   ],
   "source": [
    "# 加减乘除\n",
    "print(\"加法：1+2=\",1+2)\n",
    "print(\"减法：4-6=\",4-6)\n",
    "print(\"乘法：2*3=\",2*3)\n",
    "print(\"除法：6/4=\",6/4)    #结果是1.5！！！\n",
    "print(\"除取整：6//4=\",6 // 4) # 取整！！\n",
    "\n",
    "#大小比较运算 结果为  True / False\n",
    "\n",
    "\n"
   ]
  },
  {
   "cell_type": "markdown",
   "id": "d8b611e3",
   "metadata": {},
   "source": [
    "## 4.循环 if  for while"
   ]
  },
  {
   "cell_type": "code",
   "execution_count": 43,
   "id": "770ea44d",
   "metadata": {},
   "outputs": [
    {
     "name": "stdout",
     "output_type": "stream",
     "text": [
      "not old\n",
      "1 2 3 4 5 \n",
      "2*2=4\n",
      "3*3=9\n",
      "4*4=16\n"
     ]
    }
   ],
   "source": [
    "# if  需要缩进4个空格（一个tab）  \n",
    "# python是严格要求缩进的\n",
    "#多分支情况下\n",
    "age = 50\n",
    "if age <18:\n",
    "    print(\"child\")\n",
    "elif age <60:\n",
    "    print(\"not old\")\n",
    "else:\n",
    "    print(\"elder\")\n",
    "    \n",
    "# for\n",
    "#  print通常为换行结尾，但是是可以替换的 用end=' '就换成了空格 \n",
    "# range()也是一个内置函数，用于生成数字序列，常用于for循环中， \n",
    "# 多参数range(2,5)表示 [2,5)左闭右开  单参数range(5)从0~4\n",
    "# break结束循环，continue跳出循环进行下一次循环\n",
    "for i in range(5):\n",
    "    print(i+1, end=\" \")\n",
    "print(\"\")\n",
    "for i in range(2,5):\n",
    "    print(\"{0}*{0}={1}\".format(i,i**2))\n",
    "\n",
    "\n"
   ]
  },
  {
   "cell_type": "markdown",
   "id": "cfcd96a3",
   "metadata": {},
   "source": [
    "## 5.函数"
   ]
  },
  {
   "cell_type": "code",
   "execution_count": 44,
   "id": "dc9d2146",
   "metadata": {},
   "outputs": [
    {
     "name": "stdout",
     "output_type": "stream",
     "text": [
      "area is  0.18\n"
     ]
    }
   ],
   "source": [
    "def area(length,width):\n",
    "    return length * width\n",
    "print(\"area is \",area(0.3,0.6))"
   ]
  },
  {
   "cell_type": "markdown",
   "id": "56d94bf9",
   "metadata": {},
   "source": [
    "### 5.1局部变量和全局变量 "
   ]
  },
  {
   "cell_type": "code",
   "execution_count": 5,
   "id": "82cae236",
   "metadata": {},
   "outputs": [
    {
     "name": "stdout",
     "output_type": "stream",
     "text": [
      "10\n",
      "100\n",
      "100\n"
     ]
    }
   ],
   "source": [
    "x=10   #全局变量\n",
    "\n",
    "def print_global():\n",
    "    print(x)\n",
    "    \n",
    "def print_local():\n",
    "    global x   #global关键字修改全局变量\n",
    "    x=100    #修改全局变量\n",
    "    print(x)\n",
    "    \n",
    "print_global()\n",
    "print_local()\n",
    "print_global()  #10 to 100"
   ]
  },
  {
   "cell_type": "markdown",
   "id": "b34e5ac5",
   "metadata": {},
   "source": [
    "### 5.2 可选参数与默认值  类似c++"
   ]
  },
  {
   "cell_type": "code",
   "execution_count": 8,
   "id": "7ffa089e",
   "metadata": {},
   "outputs": [
    {
     "name": "stdout",
     "output_type": "stream",
     "text": [
      "hello world\n",
      "hello deep learning\n",
      "hello deep learning\n",
      "hello deep learning\n",
      "hello deep learning\n",
      "hello deep learning\n",
      "hello deep learning\n"
     ]
    }
   ],
   "source": [
    "def greet(message,times=1):  #默认times为1  但可以修改\n",
    "#值得注意的是  def(times=1,message)是不允许的,带有默认值的要放在后面\n",
    "    for i in range(times):   # 0 ~ range [)\n",
    "        print(message)\n",
    "        \n",
    "greet(\"hello world\")\n",
    "greet(\"hello deep learning\",3)  #也可以 greet(times=3,message=\"hello deep learning\")  键值对应即可\n"
   ]
  },
  {
   "cell_type": "markdown",
   "id": "ef8eab44",
   "metadata": {},
   "source": [
    "### 5.3 可变参数 "
   ]
  },
  {
   "cell_type": "code",
   "execution_count": 21,
   "id": "68a1a134",
   "metadata": {},
   "outputs": [
    {
     "name": "stdout",
     "output_type": "stream",
     "text": [
      "6\n",
      "21\n",
      "小明今年8岁\n",
      "小红今年7岁\n"
     ]
    }
   ],
   "source": [
    "# 当函数参数个数不确定时使用\n",
    "# 都是python内置数据结构\n",
    "# 1.元组式 tuple  一个不可变的有序集合\n",
    "# 2.字典式 dic\n",
    "\n",
    "def sum(*nums):  #求和函数，可以传入任意个数字\n",
    "    s=0\n",
    "    for num in nums:\n",
    "        s+=num\n",
    "    return s\n",
    "print(sum(1,2,3))\n",
    "print(sum(1,2,3,4,5,6))\n",
    "\n",
    "#字典式 采用键值对应  **\n",
    "def print_student(**student):\n",
    "    for name,age in student.items():\n",
    "        print(\"{}今年{}岁\".format(name,age))\n",
    "        \n",
    "print_student(小明=8,小红=7)\n",
    "    "
   ]
  },
  {
   "cell_type": "markdown",
   "id": "3edda15c",
   "metadata": {},
   "source": [
    "### 5.4 文档字符串 _doc_ "
   ]
  },
  {
   "cell_type": "code",
   "execution_count": 19,
   "id": "f1e9439c",
   "metadata": {},
   "outputs": [
    {
     "name": "stdout",
     "output_type": "stream",
     "text": [
      "小明今年8岁\n",
      "小红今年7岁\n",
      "Print name and age of students for everone!\n",
      "key is name and then the next is age.\n",
      "    \n",
      "Help on function print_student in module __main__:\n",
      "\n",
      "print_student(**students)\n",
      "    Print name and age of students for everone!\n",
      "    key is name and then the next is age.\n",
      "\n"
     ]
    }
   ],
   "source": [
    "#在python每个函数都有一个内置的属性__doc__保存了函数的说明文档   \n",
    "# 称之为 DocStrings    两个_!!!  __\n",
    "def print_student(**students):\n",
    "    '''Print name and age of students for everone!\n",
    "key is name and then the next is age.\n",
    "    '''\n",
    "    for name,age in students.items():\n",
    "        print(\"{}今年{}岁\".format(name,age))\n",
    "        \n",
    "print_student(小明=8,小红=7)\n",
    "print(print_student.__doc__)  #打印_doc_的值\n",
    "help(print_student)  #另一种形式"
   ]
  },
  {
   "cell_type": "markdown",
   "id": "5bf37e09",
   "metadata": {},
   "source": [
    "## 6. 输入输出"
   ]
  },
  {
   "cell_type": "code",
   "execution_count": 28,
   "id": "30cd15e6",
   "metadata": {},
   "outputs": [
    {
     "name": "stdout",
     "output_type": "stream",
     "text": [
      "Name:wang\n",
      "age:14\n",
      "job:student\n",
      "---------info of ---------\n",
      "Name:wang\n",
      "Age:14\n",
      "Job:student\n"
     ]
    }
   ],
   "source": [
    "# 第一种方法\n",
    "name=input(\"Name:\")\n",
    "age=input(\"age:\")\n",
    "job=input(\"job:\")\n",
    "\n",
    "info='''---------info of ---------''' + '''  #info是一个由三个单引号连接起来的多字符串\n",
    "Name:'''+name+'''\n",
    "Age:'''+age+'''\n",
    "Job:'''+job\n",
    "print(info)"
   ]
  },
  {
   "cell_type": "code",
   "execution_count": null,
   "id": "a57a0cb5",
   "metadata": {},
   "outputs": [],
   "source": [
    "# 第三种方法\n",
    "\n",
    "name=input(\"Name:\")\n",
    "age=int(input(\"age:\"))  #如果不用int()就会报错(虽然输入为数字，但是print(type(age))为str型)，因为python如果不强制类型转化，就会默认字符型\n",
    "job=input(\"job:\")\n",
    "\n",
    "info='''---------info of ---------\n",
    "Name:{_name}\n",
    "Age:{_age}\n",
    "Job:{_job}'''.format(_name=name,_age=age,_job=job)\n",
    "print(info)"
   ]
  },
  {
   "cell_type": "code",
   "execution_count": null,
   "id": "a4d3ce99",
   "metadata": {},
   "outputs": [],
   "source": [
    "# 第三种方法\n",
    "\n",
    "name=input(\"Name:\")\n",
    "age=int(input(\"age:\"))  #如果不用int()就会报错(虽然输入为数字，但是print(type(age))为str型)，因为python如果不强制类型转化，就会默认字符型\n",
    "job=input(\"job:\")\n",
    "\n",
    "info='''---------info of ---------\n",
    "Name:%s\n",
    "Age:%d   #int类型输出所以要强制转换\n",
    "Job:%s'''%(name,age,job)\n",
    "print(info)"
   ]
  },
  {
   "cell_type": "code",
   "execution_count": 32,
   "id": "6bf6d792",
   "metadata": {},
   "outputs": [
    {
     "name": "stdout",
     "output_type": "stream",
     "text": [
      "Name:hello\n",
      "age:14\n",
      "job:wang\n",
      "---------info of ---------\n",
      "Name:hello\n",
      "Age:14\n",
      "Job:wang\n"
     ]
    }
   ],
   "source": [
    "# 第四种方法\n",
    "\n",
    "name=input(\"Name:\")\n",
    "age=input(\"age:\")  #如果不用int()就会报错(虽然输入为数字，但是print(type(age))为str型)，因为python如果不强制类型转化，就会默认字符型\n",
    "job=input(\"job:\")\n",
    "\n",
    "info='''---------info of ---------\n",
    "Name:{0}\n",
    "Age:{1}\n",
    "Job:{2}'''.format(name,age,job)\n",
    "print(info)"
   ]
  },
  {
   "cell_type": "markdown",
   "id": "e9a58855",
   "metadata": {},
   "source": [
    "## 7.文件流 "
   ]
  },
  {
   "cell_type": "code",
   "execution_count": 18,
   "id": "63eeb963",
   "metadata": {},
   "outputs": [
    {
     "name": "stdout",
     "output_type": "stream",
     "text": [
      "11\n",
      "第一行\n",
      "第二行\n",
      "第三行"
     ]
    },
    {
     "data": {
      "text/plain": [
       "'with open(\"2.txt\",\"r\") as f:\\n    for line in f:\\n        print(line,end=\"\")'"
      ]
     },
     "execution_count": 18,
     "metadata": {},
     "output_type": "execute_result"
    }
   ],
   "source": [
    "# 将字符串s写入文件1.txt\n",
    "s='''第一行\n",
    "第二行\n",
    "第三行'''\n",
    "# 若之前没有该文件 会自动创建\n",
    "f=open(\"1.txt\",\"w\")  #第一个参数为文件路径 第二个为打开模式  w：写模式 r：只读 \n",
    "#  w打开会清空文件  若需追加写入用w+\n",
    "f.write(s)\n",
    "f.close()   #记得关闭\n",
    "\n",
    "\n",
    "\n",
    "# 另一种方式 with as：\n",
    "# with语句会在with内部代码结束之后就会执行资源回收，即关闭文件\n",
    "with open(\"2.txt\",\"w\") as f:\n",
    "    f.write(s)\n",
    "\n",
    "#1.读取文件，统计字数   \n",
    "with open(\"2.txt\",\"r\") as f:\n",
    "    a=f.read()\n",
    "    print(len(a))\n",
    "    \n",
    "# 2.readlines()读取文件的所有行\n",
    "with open(\"2.txt\",\"r\") as f:\n",
    "    a=f.readlines()\n",
    "    for line in s:\n",
    "        print(line,end=\"\")  #\"\"结尾表示去掉换行\n",
    "        \n",
    "# 第二种方式：遍历f即可\n",
    "'''with open(\"2.txt\",\"r\") as f:\n",
    "    for line in f:\n",
    "        print(line,end=\"\")'''\n"
   ]
  },
  {
   "cell_type": "markdown",
   "id": "235a2a65",
   "metadata": {},
   "source": [
    "## 8.数据结构 字符串string  列表list  元组tuple 字典dict "
   ]
  },
  {
   "cell_type": "markdown",
   "id": "ddb51acb",
   "metadata": {},
   "source": [
    "### 8.1字符串string "
   ]
  },
  {
   "cell_type": "code",
   "execution_count": 47,
   "id": "70247359",
   "metadata": {},
   "outputs": [
    {
     "name": "stdout",
     "output_type": "stream",
     "text": [
      "19\n",
      "i U w\n",
      "i want to \n",
      "go to SEU\n",
      "\n",
      "n og oSU\n",
      "UES ot og ot tnaw i\n"
     ]
    }
   ],
   "source": [
    "# [m:n] 切片操作，取a[m]~a[n-1]之间的内容，m、n可以为负，m>n时返回空\n",
    "# [m::n] 从a[m]开始，每跳|n|个取一个，当n为负时逆序取数，当n为正的时候，m为空则默认m=0，n为负时，m为空则默认为-1\n",
    "#    [start:end:step]\n",
    "s =  'i want to go to SEU'\n",
    "print(len(s))\n",
    "print(s[0],s[-1],s[2])  #[]按下标索引到元素的值,0起始，-1最后一个元素 \n",
    "\n",
    "print(s[0:10])  #等价于 s[:10]\n",
    "print(s[10:])  #10起始位置即第十一位g开始\n",
    "print(s[5:0])\n",
    "print(s[4::2])\n",
    "print(s[::-1])"
   ]
  },
  {
   "cell_type": "markdown",
   "id": "4f5bcc0a",
   "metadata": {},
   "source": [
    "### 8.2 列表 list "
   ]
  },
  {
   "cell_type": "code",
   "execution_count": 36,
   "id": "9450baed",
   "metadata": {
    "scrolled": true
   },
   "outputs": [
    {
     "name": "stdout",
     "output_type": "stream",
     "text": [
      "Tom Jack Ma Wang \n",
      " ['Tom', 'Jack', 'Ma', 'Wang', 'ZhaoJinMai']\n",
      "['Tom', 'Ma', 'Wang', 'ZhaoJinMai']\n",
      "['Tom', 'Ma', 'ZhaoJinMai']\n",
      "['Ma', 'Tom', 'ZhaoJinMai']\n"
     ]
    }
   ],
   "source": [
    "#  list: 有序、允许重复 （线性表） 支持增删查改\n",
    "# persons = list()  #声明一个空表\n",
    "# persons = [] #空表   这几行甚至不需要\n",
    "persons = [\"Tom\",\"Jack\",\"Ma\",\"Wang\"]  #声明非空列表\n",
    "for name in persons:\n",
    "    print(name,end=\" \")\n",
    "# append添加元素  remove按值删除某个元素 del按下标删除元素  sort() 排序\n",
    "persons.append(\"ZhaoJinMai\")\n",
    "print(\"\\n\",persons)\n",
    "\n",
    "#remove删除Jack\n",
    "persons.remove(\"Jack\") \n",
    "print(persons)\n",
    "\n",
    "#del删除倒数第二个 Wang\n",
    "del persons[-2]\n",
    "print(persons)\n",
    "\n",
    "#排序  按照ASCII码排序\n",
    "persons.sort()\n",
    "print(persons)\n",
    "\n"
   ]
  },
  {
   "cell_type": "markdown",
   "id": "d32e0168",
   "metadata": {},
   "source": [
    "### 8.3 元组tuple"
   ]
  },
  {
   "cell_type": "code",
   "execution_count": 6,
   "id": "80dd156b",
   "metadata": {},
   "outputs": [
    {
     "name": "stdout",
     "output_type": "stream",
     "text": [
      "('ZhaoJinMai', 'LiGengXin')\n"
     ]
    }
   ],
   "source": [
    "# 元组也是有序序列，用()表示，与list不同，是不可变数据类型\n",
    "students = (\"Wang\",\"ZhaoJinMai\",\"LiGengXin\")\n",
    "print(students[1:])  #同样支持切片\n",
    "# 如果尝试修改tuple会出错"
   ]
  },
  {
   "cell_type": "markdown",
   "id": "8c1b411a",
   "metadata": {},
   "source": [
    "### 8.4 字典dict "
   ]
  },
  {
   "cell_type": "code",
   "execution_count": 17,
   "id": "ea58707b",
   "metadata": {},
   "outputs": [
    {
     "name": "stdout",
     "output_type": "stream",
     "text": [
      "10\n",
      "Tom 10\n",
      "ZhaoJinMai 22\n",
      "LiGengXin 21\n"
     ]
    },
    {
     "data": {
      "text/plain": [
       "{'Tom': 10, 'ZhaoJinMai': 22, 'LiGengXin': 21}"
      ]
     },
     "execution_count": 17,
     "metadata": {},
     "output_type": "execute_result"
    }
   ],
   "source": [
    "# dict由多个键值对组成\n",
    "students = dict()  #空字典\n",
    "students = {\n",
    "    \"Tom\":18,\n",
    "    \"Wang\":22,\n",
    "    \"ZhaoJinMai\":22\n",
    "}\n",
    "students[\"LiGengXin\"] = 21  #新增\n",
    "students[\"Tom\"] = 10 #修改\n",
    "print(students[\"Tom\"])  #通过key索引\n",
    "del students[\"Wang\"]  #删除\n",
    "for name,age in students.items():\n",
    "    print(name,age)\n",
    "studentsb"
   ]
  },
  {
   "cell_type": "markdown",
   "id": "94836064",
   "metadata": {},
   "source": [
    "### 8.5 集合set "
   ]
  },
  {
   "cell_type": "code",
   "execution_count": 32,
   "id": "82567b9d",
   "metadata": {},
   "outputs": [
    {
     "name": "stdout",
     "output_type": "stream",
     "text": [
      "a: {1, 2, 3, 4, 6}\n",
      "s: {1, 3, 4, 5, 6}\n",
      "s|a: {1, 2, 3, 4, 5, 6}\n",
      "s&a: {1, 3, 4, 6}\n",
      "s-a: {5}\n"
     ]
    }
   ],
   "source": [
    "#集合特点：无序、不重复\n",
    "s= set()  #空集合\n",
    "s=set([1,2,3,4,5])  #创建空集合只能用set()   {}为空字典\n",
    "a = {1,2,3,4,6} #两种生成方式 \n",
    "\n",
    "print(\"a:\",a)\n",
    "s.add(6) #增加元素 若重复则不添加\n",
    "s.remove(2)\n",
    "print(\"s:\",s)\n",
    "\n",
    "print(\"s|a:\",s|a)  #并集\n",
    "print(\"s&a:\",s&a)  #交集\n",
    "print(\"s-a:\",s-a)  #差集"
   ]
  },
  {
   "cell_type": "code",
   "execution_count": 34,
   "id": "f858c0c7",
   "metadata": {},
   "outputs": [
    {
     "data": {
      "text/plain": [
       "tensor([ 0,  1,  2,  3,  4,  5,  6,  7,  8,  9, 10, 11])"
      ]
     },
     "execution_count": 34,
     "metadata": {},
     "output_type": "execute_result"
    }
   ],
   "source": [
    "import torch\n",
    "\n",
    "x= torch.arange(12)\n",
    "x\n"
   ]
  }
 ],
 "metadata": {
  "celltoolbar": "原始单元格格式",
  "kernelspec": {
   "display_name": "Python 3 (ipykernel)",
   "language": "python",
   "name": "python3"
  },
  "language_info": {
   "codemirror_mode": {
    "name": "ipython",
    "version": 3
   },
   "file_extension": ".py",
   "mimetype": "text/x-python",
   "name": "python",
   "nbconvert_exporter": "python",
   "pygments_lexer": "ipython3",
   "version": "3.7.4"
  }
 },
 "nbformat": 4,
 "nbformat_minor": 5
}
